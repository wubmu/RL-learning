{
 "cells": [
  {
   "cell_type": "markdown",
   "metadata": {},
   "source": [
    "# 无模型时序差分控制（Model-Free TD Control）\n",
    "\n",
    "\n",
    "**on-policy & off-policy**:on-policy, Learn about policy $\\pi$(target policy) from experience sampled from $\\pi$; off-policy，Learn about policy $\\pi$ from experience sampled from $\\mu$(behavior policy)\n",
    "\n",
    "\n",
    "- 行为策略（behavior policy）：\n",
    "- 用于生成行动策略被称为**行动策略**。行为策略可能和实际上被评估和改善的策略无关。\n",
    "- 被评估和改善的策略被称为**目标策略**\n",
    "\n",
    "首先我们称采样数据的策略为行为策略（behavior policy），称用这些数据来更新的策略为目标策略（target policy）。\n",
    "\n",
    "**在线策略（on-policy）**方法指的是行为策略和目标策略是同一个策略；而**离线策略（off-policy）**方法指的是行为策略和目标策略不是同一个策略。Sarsa 是典型的在线策略算法，而 Q-learning 是典型的离线策略算法。\n",
    "\n",
    "\n",
    "Q-learning的更新公式：\n",
    "\n",
    "$$\n",
    "Q(s_t,a_t) \\leftarrow Q(s_t,a_t) + \\alpha \\left[ r_{t} + \\gamma \\max_{a\\in \\mathcal{A}}Q(s_{t+1},a_t) - Q(s_t,a_t) \\right]\n",
    "$$\n",
    "\n",
    "Sarsa的更新公式:\n",
    "\n",
    "$$\n",
    "Q\\left(s_{t}, a_{t}\\right) \\leftarrow Q\\left(s_{t}, a_{t}\\right)+\\alpha\\left[r_{t}+\\gamma Q\\left(s_{t+1}, a_{t+1}\\right)-Q\\left(s_{t}, a_{t}\\right)\\right]\n",
    "$$\n",
    "\n",
    "动作价值的函数的贝尔曼最优方程式:\n",
    "$$\n",
    "Q_{*}(s, a)=r(s, a)+\\gamma \\sum_{s^{\\prime} \\in \\mathcal{S}} p\\left(s^{\\prime} \\mid s, a\\right) \\max _{a^{\\prime}} Q_{*}\\left(s^{\\prime}, a^{\\prime}\\right)\n",
    "$$\n",
    "\n",
    "**注意：**\n",
    "\n",
    "即 Q-learning 是直接在估计$Q_{*}$,而 Sarsa 是在估计当前$\\epsilon$-greedy 策略的动作价值函数。需要强调的是 Q-learning 的更新并非必须使用当前贪心策略的$argmaxQ$采样得到的数据，因为是给定任意的$(s,a,s^\\prime)$都可以直接根据更新公式来更新Q\n",
    "\n",
    "而 Sarsa 必须使用当前$\\epsilon$-greedy 策略采样得到的数据，因为它的更新中用到的 $Q_{*}\\left(s^{\\prime}, a^{\\prime}\\right)$是在当前策略下在$s^{\\prime}$的动作。\n",
    "\n",
    "我们称 Sarsa 是在线策略（on-policy）算法，称 Q-learning 是离线策略（off-policy）算法\n",
    "## Cliff Walking\n",
    "![](https://gitee.com/wubmu/image/raw/master/img/20210823214810.png)\n",
    "\n",
    "Cliff Walking 是一个非常经典的强化学习环境，它要求一个智能体从起点出发，避开悬崖行走，最终到达目标位置。如图所示，有一个 的网格世界，每一个网格是一个状态，起点是左下角的状态，目标是右下角的状态。智能体在每一个状态都可以采取 4 种动作：上,下,左,右，如果采取动作后触碰到边界墙壁则状态不发生改变，否则就会相应到达下一个状态。其中有一段悬崖，智能体到达目标状态或掉入悬崖都会结束并回到起点，也就是说它们是终止状态。每走一步的奖励是-1，掉入悬崖的奖励是-100。"
   ]
  },
  {
   "cell_type": "code",
   "execution_count": 1,
   "metadata": {},
   "outputs": [],
   "source": [
    "import time\n",
    "import random\n",
    "import numpy as np\n",
    "import matplotlib.pyplot as plt\n",
    "from tqdm import tqdm # tqdm是显示循环进度条的库\n"
   ]
  },
  {
   "cell_type": "code",
   "execution_count": 2,
   "metadata": {},
   "outputs": [],
   "source": [
    "class CliffWalkingEnv:\n",
    "    def __init__(self, ncol, nrow):\n",
    "        self.nrow = nrow\n",
    "        self.ncol = ncol\n",
    "        self.x = 0 # 记录当前智能体位置的横坐标\n",
    "        self.y = self.nrow - 1 # 记录当前智能体位置的纵坐标\n",
    "        \n",
    "    def step(self, action):  # 外部调用这个函数来让当前位置改变\n",
    "        change = [[0, -1], [0, 1], [-1, 0], [1, 0]] # 4 种动作, 0:上, 1:下, 2:左, 3:右。原点(0,0)定义在左上角\n",
    "        self.x = min(self.ncol - 1, max(0, self.x + change[action][0]))\n",
    "        self.y = min(self.nrow - 1, max(0, self.y + change[action][1]))\n",
    "        \n",
    "        next_state = self.y * self.ncol + self.x\n",
    "        reward = -1 \n",
    "        done = False\n",
    "        if self.y == self.nrow - 1 and self.x > 0: # 下一个位置是终点，或者悬崖\n",
    "            done = True\n",
    "            if self.x != self.ncol -1: # 是悬崖\n",
    "                reward = -100\n",
    "        \n",
    "        return next_state, reward, done\n",
    "    \n",
    "    def reset(self):  # 回到初始状态，\n",
    "        self.x = 0\n",
    "        self.y = self.nrow - 1\n",
    "        return self.y * self.ncol + self.x"
   ]
  },
  {
   "cell_type": "markdown",
   "metadata": {},
   "source": [
    "## Q-learning实现\n",
    "![](https://gitee.com/wubmu/image/raw/master/img/20210824110719.png)"
   ]
  },
  {
   "cell_type": "code",
   "execution_count": 3,
   "metadata": {},
   "outputs": [],
   "source": [
    "class QLearning:\n",
    "    \"\"\" Q-learning算法 \"\"\"\n",
    "    def __init__(self, ncol, nrow, epsilon, alpha, gamma, n_action=4):\n",
    "        self.Q_table = np.zeros([nrow * ncol, n_action]) # 初始化Q(s,a)表格\n",
    "        self.n_action = n_action # 动作个数\n",
    "        self.alpha = alpha # 学习率\n",
    "        self.gamma = gamma # 折扣因子\n",
    "        self.epsilon = epsilon # epsilon-greedy策略中的参数\n",
    "\n",
    "    def take_action(self, state): #选取下一步的操作\n",
    "        if np.random.random() < self.epsilon:\n",
    "            action = np.random.randint(self.n_action)\n",
    "        else:\n",
    "            action = np.argmax(self.Q_table[state])\n",
    "        return action\n",
    "\n",
    "    def best_action(self, state): # 用于打印策略\n",
    "        Q_max = np.max(self.Q_table[state])\n",
    "        a = [0 for _ in range(self.n_action)]\n",
    "        for i in range(self.n_action):\n",
    "            if self.Q_table[state, i] == Q_max:\n",
    "                a[i] = 1\n",
    "        return a\n",
    "\n",
    "    def update(self, s0, a0, r, s1):\n",
    "        td_error = r + self.gamma * self.Q_table[s1].max() - self.Q_table[s0, a0]\n",
    "        self.Q_table[s0, a0] += self.alpha * td_error"
   ]
  },
  {
   "cell_type": "code",
   "execution_count": 35,
   "metadata": {},
   "outputs": [
    {
     "name": "stdout",
     "output_type": "stream",
     "text": [
      "Episode: 50, Score: -105.7\n",
      "Episode: 100, Score: -70.9\n",
      "Episode: 150, Score: -56.5\n",
      "Episode: 200, Score: -46.5\n",
      "Episode: 250, Score: -40.8\n",
      "Episode: 300, Score: -20.4\n",
      "Episode: 350, Score: -45.7\n",
      "Episode: 400, Score: -32.8\n",
      "Episode: 450, Score: -22.7\n",
      "Episode: 500, Score: -61.7\n"
     ]
    },
    {
     "data": {
      "image/png": "[encoded data removed]",
      "text/plain": [
       "<Figure size 432x288 with 1 Axes>"
      ]
     },
     "metadata": {
      "needs_background": "light"
     },
     "output_type": "display_data"
    }
   ],
   "source": [
    "# 初始化环境\n",
    "ncol = 12\n",
    "nrow = 4\n",
    "env = CliffWalkingEnv(ncol, nrow)\n",
    "\n",
    "\n",
    "# 设置agent\n",
    "np.random.seed(0)\n",
    "epsilon = 0.1 \n",
    "alpha = 0.1 \n",
    "gamma = 0.9 \n",
    "agent = QLearning(ncol, nrow, epsilon, alpha, gamma)\n",
    "num_episodes = 500# 智能体在环境中运行多少条序列\n",
    "\n",
    "return_list = [] # 记录每一条序列的回报\n",
    "for i_episode in range(num_episodes):\n",
    "    episode_return = 0 \n",
    "    state = env.reset()\n",
    "    done = False\n",
    "    while not done:\n",
    "        action = agent.take_action(state)\n",
    "        next_state, reward, done = env.step(action)\n",
    "        episode_return += reward    # 这里的会报的计算不计算折扣因子衰减\n",
    "        agent.update(state, action, reward, next_state)\n",
    "        state = next_state\n",
    "    return_list.append(episode_return)\n",
    "    if (i_episode + 1)%50 == 0:\n",
    "        print(\"Episode: {}, Score: {}\".format(i_episode+1, np.mean(return_list[-10:])))\n",
    "        \n",
    "        \n",
    "episodes_list = list(range(len(return_list)))\n",
    "plt.plot(episodes_list, return_list)\n",
    "plt.xlabel('Episodes')\n",
    "plt.ylabel('Returns')\n",
    "plt.title('Q-learning on {}'.format('Cliff Walking'))\n",
    "plt.show()"
   ]
  },
  {
   "cell_type": "markdown",
   "metadata": {},
   "source": [
    "## Sarsa\n",
    "![](https://gitee.com/wubmu/image/raw/master/img/20210824151933.png)"
   ]
  },
  {
   "cell_type": "code",
   "execution_count": 32,
   "metadata": {},
   "outputs": [],
   "source": [
    "class Sarsa:\n",
    "    \"\"\"Sarsa算法\"\"\"\n",
    "    def __init__(self, ncol, nrow, epsilon, alpha, gamma, n_action=4):\n",
    "        self.Q_table = np.zeros([nrow * ncol, n_action])\n",
    "        self.n_action = n_action # 动作个数\n",
    "        self.alpha = alpha # 学习率\n",
    "        self.gamma = gamma # 折扣因子\n",
    "        self.epsilon = epsilon # epsilon-greedy策略中的参数\n",
    "        \n",
    "    def take_action(self, state): #选取下一步的操作\n",
    "        if np.random.random() < self.epsilon:\n",
    "            action = np.random.randint(self.n_action)\n",
    "        else:\n",
    "            action = np.argmax(self.Q_table[state])\n",
    "        return action\n",
    "    \n",
    "    \n",
    "#     def take_action(self, state, num_episodes): #选取下一步的操作\n",
    "#         if np.random.random() < self.epsilon * pow(0.95,num_episodes):\n",
    "#             action = np.random.randint(self.n_action)\n",
    "#         else:\n",
    "#             action = np.argmax(self.Q_table[state])\n",
    "#         return action\n",
    "    \n",
    "    def best_action(self, state): # 用于打印策略\n",
    "        Q_max = np.max(self.Q_table[state])\n",
    "        a = [0 for _ in range(self.n_action)]\n",
    "        for i in range(self.n_action): # 若两个动作的价值一样，都会记录下来\n",
    "            if self.Q_table[state, i] == Q_max:\n",
    "                a[i] = 1\n",
    "        return a\n",
    "    def update(self, s0, a0, r, s1, a1):\n",
    "        td_error = r + self.gamma * self.Q_table[s1, a1] - self.Q_table[s0, a0]\n",
    "        self.Q_table[s0, a0] += self.alpha * td_error"
   ]
  },
  {
   "cell_type": "code",
   "execution_count": 34,
   "metadata": {},
   "outputs": [
    {
     "name": "stdout",
     "output_type": "stream",
     "text": [
      "Episode: 50, Score: -119.4\n",
      "Episode: 100, Score: -63.0\n",
      "Episode: 150, Score: -51.2\n",
      "Episode: 200, Score: -48.1\n",
      "Episode: 250, Score: -35.7\n",
      "Episode: 300, Score: -29.9\n",
      "Episode: 350, Score: -28.3\n",
      "Episode: 400, Score: -27.7\n",
      "Episode: 450, Score: -28.5\n",
      "Episode: 500, Score: -18.9\n"
     ]
    },
    {
     "data": {
      "image/png": "[encoded data removed]",
      "text/plain": [
       "<Figure size 432x288 with 1 Axes>"
      ]
     },
     "metadata": {
      "needs_background": "light"
     },
     "output_type": "display_data"
    }
   ],
   "source": [
    "np.random.seed(0)\n",
    "epsilon = 0.1\n",
    "alpha = 0.1\n",
    "gamma = 0.9\n",
    "agent = Sarsa(ncol, nrow, epsilon, alpha, gamma)\n",
    "num_episodes = 500 # 智能体在环境中运行多少条序列\n",
    "\n",
    "\n",
    "return_list = [] # 记录每一条序列的回报\n",
    "for i_episode in range(num_episodes):\n",
    "    episode_return = 0 \n",
    "    state = env.reset()\n",
    "    done = False\n",
    "    action = agent.take_action(state)\n",
    "    while not done:\n",
    "        \n",
    "        next_state, reward, done = env.step(action)\n",
    "        next_action = agent.take_action(next_state)\n",
    "        \n",
    "        episode_return += reward    # 这里的会报的计算不计算折扣因子衰减\n",
    "        \n",
    "        \n",
    "        \n",
    "        agent.update(state, action, reward, next_state, next_action)\n",
    "        \n",
    "        state = next_state\n",
    "        action = next_action\n",
    "        \n",
    "    return_list.append(episode_return)\n",
    "    if (i_episode + 1)%50 == 0:\n",
    "        print(\"Episode: {}, Score: {}\".format(i_episode+1, np.mean(return_list[-10:])))\n",
    "        \n",
    "        \n",
    "episodes_list = list(range(len(return_list)))\n",
    "plt.plot(episodes_list, return_list)\n",
    "plt.xlabel('Episodes')\n",
    "plt.ylabel('Returns')\n",
    "plt.title('Sarsa on {}'.format('Cliff Walking'))\n",
    "plt.show()"
   ]
  },
  {
   "cell_type": "markdown",
   "metadata": {},
   "source": [
    "## 多步Sarsa算法\n",
    "\n",
    "![](https://gitee.com/wubmu/image/raw/master/img/20210824155627.png)"
   ]
  },
  {
   "cell_type": "code",
   "execution_count": null,
   "metadata": {},
   "outputs": [],
   "source": [
    "class nstep_Sarsa:\n",
    "    \"\"\"n步Sarsa算法\"\"\"\n",
    "    def __init__(self, n, ncol, nrow, epsilon, alpha, gamma, n_action=4):\n",
    "        self.Q_table = np.zeros([nrow * ncol, n_action])\n",
    "        self.n_action = n_action\n",
    "        self.alpha = alpha\n",
    "        self.gamma = gamma\n",
    "        self.epsilon = epsilon\n",
    "        self.n = n # 采用n步Sarsa\n",
    "        \n",
    "        self.state_list = [] #保存之前的状态\n",
    "        self.action_list = [] # 保存之前的动作\n",
    "        self.reward_list = [] # 保存之前的奖励\n",
    "    \n",
    "    def take_action(self, state):\n",
    "        if np.random.random() < self.epsilon:\n",
    "            action = np.random.randint(self.n_action)\n",
    "        else:\n",
    "            action = np.argmax(self.Q_table[state])\n",
    "        return action\n",
    "    \n",
    "    def best_action(self, state): # 用于打印策略\n",
    "        Q_max = np.max(self.Q_table[state])\n",
    "        a = [0 for _ in range(self.n_action)]\n",
    "        for i in range(self.n_action):\n",
    "            if self.Q_table[state, i] == Q_max:\n",
    "                a[i] = 1\n",
    "        return a\n",
    "    \n",
    "    \n",
    "    def update(self, s0, a0, r, s1, a1, done):\n",
    "        self.state_list.append(s0)\n",
    "        self.action_list.append(a0)\n",
    "        self.reward_list.append(r)\n",
    "        \n",
    "        if len(self.state_list) == self.n:\n",
    "            G = self.Q_table[s1, a1]"
   ]
  }
 ],
 "metadata": {
  "kernelspec": {
   "display_name": "Python 3",
   "language": "python",
   "name": "python3"
  },
  "language_info": {
   "codemirror_mode": {
    "name": "ipython",
    "version": 3
   },
   "file_extension": ".py",
   "mimetype": "text/x-python",
   "name": "python",
   "nbconvert_exporter": "python",
   "pygments_lexer": "ipython3",
   "version": "3.6.12"
  }
 },
 "nbformat": 4,
 "nbformat_minor": 4
}