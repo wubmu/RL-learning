{
 "cells": [
  {
   "cell_type": "markdown",
   "metadata": {},
   "source": [
    "# DQN实战\n",
    "\n",
    "## Q-learning回顾\n",
    "\n",
    "\n",
    "## CartPole环境\n",
    "CartPole状态是连续的，动作值是离散的。\n",
    "\n",
    "**状态参数（每个维度都是连续值）**\n",
    "维度\t意义\t最小值\t最大值\n",
    "0\t车的位置\t-2.4\t2.4\n",
    "1\t车的速度\t-Inf\tInf\n",
    "2\t杆的角度\t~ -41.8°\t~ 41.8°\n",
    "3\t杆尖端的速度\t-Inf\tInf\n",
    "\n",
    "\n",
    "动作参数（离散）：\n",
    "标号\t动作\n",
    "0\t向左移动小车\n",
    "1\t向右移动小车\n",
    "\n",
    "reward设置\n",
    "在 CartPole 环境中，有一辆小车，智能体的任务是左右移动来保持车上的杆竖直，若杆子倾斜度数过大或车子离初始位置左右偏离程度过大，或者坚持时间到达两百帧，则游戏结束。在游戏中每坚持一帧，智能体能获得 1 的奖励，所以坚持时间越长，则最后的分数越高，最多便是坚持两百帧。\n",
    "\n",
    "## DQN\n",
    "由于每个维度状态是连续的，我们无法使用表格记录，一个常用的解决方法是函数拟合(Function Approximation）。由于神经网络强大的表达能力，我们可以用一个神经网络来表示$Q$函数。\n",
    "- 若动作是无限的，神经网络输入状态$s$和动作$a$，然后输出一个标量，表示状态$s$下采取的动作$a$的价值。\n",
    "- 若动作是有限的，除了上述方法外，还可以只输入$s$，输出每一个动作的$Q$\n",
    "\n",
    "\n",
    "但通常DQN只能处理有限动作的情况，因为在$Q$函数更新过程中有 max 操作。假设神经网络用来拟合$Q$函数的参数是$w$，经每个状态$s$下所有可能的动作的$a$的$Q$值表示为$Q_w(s,a)$。\n",
    "\n",
    "由于使用神经网络来拟合$Q$函数，我们称之为$Q$网络。那么网络$Q$的损失函数是什么呢？\n",
    "\n",
    "回顾Q-learning的更新规则：\n",
    "$$\n",
    "Q\\left(s_{t}, a_{t}\\right) \\leftarrow Q\\left(s_{t}, A_{t}\\right)+\\alpha\\left[r_{t}+\\gamma \\max _{a} Q\\left(s_{t+1}, a\\right)-Q\\left(s_{t}, a_{t}\\right)\\right]\n",
    "$$\n",
    "\n",
    "是用TD目标$r+\\gamma max_{a^}$ \n",
    "\n",
    "\n",
    "![](https://gitee.com/wubmu/image/raw/master/img/20210827165528.png)"
   ]
  },
  {
   "cell_type": "code",
   "execution_count": 1,
   "metadata": {
    "ExecuteTime": {
     "end_time": "2021-08-27T09:41:59.748682Z",
     "start_time": "2021-08-27T09:41:58.981510Z"
    }
   },
   "outputs": [],
   "source": [
    "import random\n",
    "import gym\n",
    "import numpy as np\n",
    "import collections\n",
    "from tqdm import tqdm\n",
    "import torch\n",
    "import torch.nn.functional as F\n",
    "import matplotlib.pyplot as plt\n",
    "import rl_utils"
   ]
  },
  {
   "cell_type": "code",
   "execution_count": 2,
   "metadata": {
    "ExecuteTime": {
     "end_time": "2021-08-27T09:41:59.764688Z",
     "start_time": "2021-08-27T09:41:59.750682Z"
    }
   },
   "outputs": [],
   "source": [
    "class ReplayBuffer:\n",
    "    \"\"\"经验回放池\"\"\"\n",
    "    def __init__(self, capacity):\n",
    "        self.buffer = collections.deque(maxlen= capacity) # 队列，先进先去\n",
    "        \n",
    "    def add(self, state, action, reward, next_state, done):\n",
    "        self.buffer.append((state, action, reward, next_state, done)) # 将数据加入buffer\n",
    "        \n",
    "    def sample(self, batch_size): # 从buffer 中采样数据，数量为batch_size\n",
    "        transitions = random.sample(self.buffer, batch_size)\n",
    "        state, action, reward, next_state, done = zip(*transitions) # zip(tanditons) 包含tuple的list, zip(*)各个tuple\n",
    "        return np.array(state), action, reward, np.array(next_state), done\n",
    "    \n",
    "    def size(self): # 目前buffer中的数据量\n",
    "        return len(self.buffer)\n",
    "    "
   ]
  },
  {
   "cell_type": "code",
   "execution_count": 3,
   "metadata": {
    "ExecuteTime": {
     "end_time": "2021-08-27T09:41:59.780689Z",
     "start_time": "2021-08-27T09:41:59.768690Z"
    }
   },
   "outputs": [],
   "source": [
    "class Qnet(torch.nn.Module):\n",
    "    def __init__(self, state_dim, hidden_dim, action_dim):\n",
    "        super(Qnet, self).__init__()\n",
    "        self.fc1 = torch.nn.Linear(state_dim, hidden_dim)\n",
    "        self.fc2 = torch.nn.Linear(hidden_dim, action_dim)\n",
    "\n",
    "    def forward(self, x):\n",
    "        x = F.relu(self.fc1(x))\n",
    "        return self.fc2(x)"
   ]
  },
  {
   "cell_type": "code",
   "execution_count": 4,
   "metadata": {
    "ExecuteTime": {
     "end_time": "2021-08-27T09:41:59.796693Z",
     "start_time": "2021-08-27T09:41:59.781691Z"
    }
   },
   "outputs": [],
   "source": [
    "class DQN:\n",
    "    \"\"\"DQN算法\"\"\"\n",
    "    def __init__(self, state_dim, hidden_dim, action_dim, learning_rate, gamma, epsilon, target_update, device):\n",
    "        self.action_dim = action_dim\n",
    "        self.q_net = Qnet(state_dim, hidden_dim, self.action_dim).to(device) # Q网络\n",
    "        self.target_q_net = Qnet(state_dim, hidden_dim, self.action_dim).to(device) # 目标网络\n",
    "        self.optimizer= torch.optim.Adam(self.q_net.parameters(), lr=learning_rate) # 使用Adam优化器\n",
    "        self.gamma = gamma # 折扣因子\n",
    "        self.epsilon = epsilon # epsilon-greedy\n",
    "        self.target_update = target_update # 目标网络更新频率\n",
    "        self.count = 0 # 计数器，记录更新次数\n",
    "    \n",
    "    def take_action(self, state):\n",
    "        if np.random.random() < self.epsilon:\n",
    "            action = np.random.randint(self.action_dim)\n",
    "        else:\n",
    "            state = torch.tensor([state], dtype=torch.float).to(device)\n",
    "            action = self.q_net(state).argmax().item()  # 动作索引的\n",
    "        return action\n",
    "    \n",
    "    def update(self, transition_dict):\n",
    "        states = torch.tensor(transition_dict['states'], dtype=torch.float).to(device)\n",
    "        actions = torch.tensor(transition_dict['actions']).view(-1, 1).to(device)\n",
    "        rewards = torch.tensor(transition_dict['rewards'], dtype=torch.float).view(-1, 1).to(device)\n",
    "        next_states = torch.tensor(transition_dict['next_states'], dtype=torch.float).to(device)\n",
    "        dones = torch.tensor(transition_dict['dones'], dtype=torch.float).view(-1, 1).to(device)\n",
    "        \n",
    "        \n",
    "        q_values = self.q_net(states).gather(1, actions) # batch 下每个action对应的值[batch,actions]\n",
    "        max_next_q_values = self.target_q_net(next_states).max(1)[0].view(-1, 1) # 下一个状态的最大Q值 dim是max函数索引的维度0/1，0是每列的最大值，1是每行的最大值\n",
    "        q_targets = rewards + self.gamma * max_next_q_values * (1-dones) # TD目标\n",
    "        dqn_loss = torch.mean(F.mse_loss(q_values, q_targets)) # 均方差误差损失函数\n",
    "        self.optimizer.zero_grad()\n",
    "        dqn_loss.backward() # 反向传播更新参数\n",
    "        self.optimizer.step()\n",
    "        \n",
    "        if self.count % self.target_update == 0:\n",
    "            self.target_q_net.load_state_dict(self.q_net.state_dict()) # 更新目标网络\n",
    "        self.count += 1\n",
    "        "
   ]
  },
  {
   "cell_type": "code",
   "execution_count": 5,
   "metadata": {
    "ExecuteTime": {
     "end_time": "2021-08-27T09:45:15.077389Z",
     "start_time": "2021-08-27T09:41:59.797693Z"
    }
   },
   "outputs": [
    {
     "name": "stdout",
     "output_type": "stream",
     "text": [
      "Episode: 50, Score: 9.3\n",
      "Episode: 100, Score: 12.3\n",
      "Episode: 150, Score: 123.0\n",
      "Episode: 200, Score: 163.1\n",
      "Episode: 250, Score: 191.0\n",
      "Episode: 300, Score: 198.1\n",
      "Episode: 350, Score: 193.2\n",
      "Episode: 400, Score: 200.0\n",
      "Episode: 450, Score: 192.3\n",
      "Episode: 500, Score: 200.0\n"
     ]
    },
    {
     "data": {
      "image/png": "[encoded data removed]",
      "text/plain": [
       "<Figure size 432x288 with 1 Axes>"
      ]
     },
     "metadata": {
      "needs_background": "light"
     },
     "output_type": "display_data"
    }
   ],
   "source": [
    "lr = 2e-3\n",
    "num_episodes = 500\n",
    "hidden_dim = 128\n",
    "gamma = 0.98\n",
    "epsilon = 0.01\n",
    "target_update = 10\n",
    "buffer_size = 10000\n",
    "minimal_size = 500\n",
    "batch_size = 64\n",
    "device = torch.device(\"cuda\") if torch.cuda.is_available() else torch.device(\"cpu\")\n",
    "\n",
    "env_name = 'CartPole-v0'\n",
    "env = gym.make(env_name)\n",
    "random.seed(0)\n",
    "np.random.seed(0)\n",
    "env.seed(0)\n",
    "torch.manual_seed(0)\n",
    "replay_buffer = ReplayBuffer(buffer_size)\n",
    "state_dim = env.observation_space.shape[0]\n",
    "action_dim = env.action_space.n\n",
    "agent = DQN(state_dim, hidden_dim, action_dim, lr, gamma, epsilon, target_update, device)\n",
    "\n",
    "return_list = []\n",
    "for i_episode in range(num_episodes):\n",
    "    episode_return = 0 \n",
    "    state = env.reset()\n",
    "    done = False\n",
    "    while not done:\n",
    "        action = agent.take_action(state)\n",
    "        next_state, reward, done,_ = env.step(action)\n",
    "        \n",
    "        replay_buffer.add(state, action, reward, next_state, done)\n",
    "        episode_return += reward    # 这里的会报的计算不计算折扣因子衰减\n",
    "        state = next_state\n",
    "        \n",
    "        if replay_buffer.size() > minimal_size: # 当buffer数据量超过一定值后，才进行Q网络训练\n",
    "            b_s, b_a, b_r, b_ns, b_d = replay_buffer.sample(batch_size)\n",
    "            transition_dict = {'states': b_s, 'actions': b_a, 'next_states': b_ns, 'rewards': b_r, 'dones': b_d}\n",
    "            agent.update(transition_dict)\n",
    "    return_list.append(episode_return)\n",
    "    if (i_episode + 1)%50 == 0:\n",
    "        print(\"Episode: {}, Score: {}\".format(i_episode+1, np.mean(return_list[-10:])))\n",
    "        \n",
    "        \n",
    "episodes_list = list(range(len(return_list)))\n",
    "plt.plot(episodes_list, return_list)\n",
    "plt.xlabel('Episodes')\n",
    "plt.ylabel('Returns')\n",
    "plt.title('DQN on {}'.format('Cartpole'))\n",
    "plt.show()\n"
   ]
  },
  {
   "cell_type": "code",
   "execution_count": 6,
   "metadata": {
    "ExecuteTime": {
     "end_time": "2021-08-27T09:45:15.171409Z",
     "start_time": "2021-08-27T09:45:15.079390Z"
    }
   },
   "outputs": [
    {
     "data": {
      "image/png": "[encoded data removed]",
      "text/plain": [
       "<Figure size 432x288 with 1 Axes>"
      ]
     },
     "metadata": {
      "needs_background": "light"
     },
     "output_type": "display_data"
    }
   ],
   "source": [
    "def moving_average(a, window_size):\n",
    "    cumulative_sum = np.cumsum(np.insert(a, 0, 0))\n",
    "    middle = (cumulative_sum[window_size:] - cumulative_sum[:-window_size]) / window_size\n",
    "    r = np.arange(1, window_size-1, 2)\n",
    "    begin = np.cumsum(a[:window_size-1])[::2] / r\n",
    "    end = (np.cumsum(a[:-window_size:-1])[::2] / r)[::-1]\n",
    "    return np.concatenate((begin, middle, end))\n",
    "\n",
    "\n",
    "mv_return = rl_utils.moving_average(return_list, 9)\n",
    "plt.plot(episodes_list, mv_return)\n",
    "plt.xlabel('Episodes')\n",
    "plt.ylabel('Returns')\n",
    "plt.title('DQN on {}'.format(env_name))\n",
    "plt.show()"
   ]
  },
  {
   "cell_type": "code",
   "execution_count": null,
   "metadata": {
    "ExecuteTime": {
     "end_time": "2021-08-27T09:48:41.469419Z",
     "start_time": "2021-08-27T09:45:23.505999Z"
    }
   },
   "outputs": [],
   "source": []
  },
  {
   "cell_type": "code",
   "execution_count": null,
   "metadata": {},
   "outputs": [],
   "source": []
  }
 ],
 "metadata": {
  "kernelspec": {
   "display_name": "Python 3",
   "language": "python",
   "name": "python3"
  },
  "language_info": {
   "codemirror_mode": {
    "name": "ipython",
    "version": 3
   },
   "file_extension": ".py",
   "mimetype": "text/x-python",
   "name": "python",
   "nbconvert_exporter": "python",
   "pygments_lexer": "ipython3",
   "version": "3.6.12"
  }
 },
 "nbformat": 4,
 "nbformat_minor": 4
}
